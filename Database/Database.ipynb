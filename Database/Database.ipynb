{
 "cells": [
  {
   "cell_type": "code",
   "execution_count": 4,
   "metadata": {
    "collapsed": true
   },
   "outputs": [],
   "source": [
    "import time\n",
    "\n",
    "from google.cloud import bigquery\n",
    "import pandas as pd\n",
    "from google.oauth2 import service_account\n",
    "import os\n",
    "import time\n",
    "\n",
    "\n"
   ]
  },
  {
   "cell_type": "code",
   "execution_count": 5,
   "outputs": [
    {
     "name": "stdout",
     "output_type": "stream",
     "text": [
      "********* NAME OF TABLE IS opportune-balm-340813.Youtube_Analytics.Youtube Comments\n"
     ]
    }
   ],
   "source": [
    "key_path= \"opportune-balm-340813-cf5a94af05bc.json\"\n",
    "project_id=\"opportune-balm-340813\"\n",
    "dataset_id = \"Youtube_Analytics\"\n",
    "table=\"Youtube Comments\"\n",
    "table_id=\"{}.{}.{}\".format(project_id, dataset_id, table)\n",
    "print(\"********* NAME OF TABLE IS\", table_id)"
   ],
   "metadata": {
    "collapsed": false
   }
  },
  {
   "cell_type": "code",
   "execution_count": 19,
   "outputs": [
    {
     "data": {
      "text/plain": "Table(TableReference(DatasetReference('opportune-balm-340813', 'Youtube_Analytics'), 'Youtube Comments'))"
     },
     "execution_count": 19,
     "metadata": {},
     "output_type": "execute_result"
    }
   ],
   "source": [
    "def load_table_dataframe(key_path,project_id,table_id):\n",
    "    credentials = service_account.Credentials.from_service_account_file(\n",
    "        key_path, scopes=[\"https://www.googleapis.com/auth/cloud-platform\"],\n",
    "    )\n",
    "\n",
    "    # Construct a BigQuery client object.\n",
    "    client = bigquery.Client(credentials=credentials, project=project_id)\n",
    "\n",
    "\n",
    "    df = pd.read_csv('C:/Users/sadik/OneDrive - Pace University/Desktop/Youtube Channel Analysis/Downloads/Final.csv')\n",
    "    job_config = bigquery.LoadJobConfig(\n",
    "        write_disposition=\"WRITE_TRUNCATE\")\n",
    "\n",
    "    job = client.load_table_from_dataframe(\n",
    "        df, table_id, job_config=job_config\n",
    "    )\n",
    "    job.result()\n",
    "    data = client.get_table(table_id)\n",
    "    return data\n",
    "\n",
    "data = load_table_dataframe(key_path,project_id, table_id)\n",
    "\n",
    "data"
   ],
   "metadata": {
    "collapsed": false
   }
  },
  {
   "cell_type": "code",
   "execution_count": 20,
   "outputs": [],
   "source": [
    "credentials = service_account.Credentials.from_service_account_file(\n",
    "    key_path, scopes=[\"https://www.googleapis.com/auth/cloud-platform\"],\n",
    ")\n"
   ],
   "metadata": {
    "collapsed": false
   }
  },
  {
   "cell_type": "code",
   "execution_count": 21,
   "outputs": [
    {
     "data": {
      "text/plain": "        video_id   channelTitle  \\\n0    1KO_HZtHOWI  Corey Schafer   \n1    th5_9woFJmk  Corey Schafer   \n2    txMdrV1Ut64  Corey Schafer   \n3    DCDe29sIKcE  Corey Schafer   \n4    Lw2rlcxScZY  Corey Schafer   \n..           ...            ...   \n995  SMDwMWTkxzs     Krish Naik   \n996  D-a6dwXzJ6s     Krish Naik   \n997  UbvkhuqVqUI     Krish Naik   \n998  ipFUANeStYE     Krish Naik   \n999  niaI15AuYTA     Krish Naik   \n\n                                                 title  \\\n0    Python YouTube API Tutorial: Sort a Playlist b...   \n1    Python YouTube API Tutorial: Getting Started -...   \n2    Python Pandas Tutorial (Part 8): Grouping and ...   \n3    Python Pandas Tutorial (Part 5): Updating Rows...   \n4    Python Pandas Tutorial (Part 4): Filtering - U...   \n..                                                 ...   \n995       StackOverflow Developer Survey 2020 Overview   \n996  Bidirectional RNN Indepth Intuition- Deep Lear...   \n997  Lets Implement LSTM RNN Models For Univariate ...   \n998  Docker Tutorial 2- Building A Flask App For A ...   \n999  Successful Transition Story From Mechanical En...   \n\n                                           description  \\\n0    In this Python Programming Tutorial, we'll be ...   \n1    In this Python Programming Tutorial, we'll be ...   \n2    In this video, we will be learning how to grou...   \n3    In this video, we will be learning how to upda...   \n4    In this video, we will be learning how to filt...   \n..                                                 ...   \n995  stackoverflow url: https://insights.stackoverf...   \n996  Complete Deep Learning Playlist: https://www.y...   \n997  In this tutorial, we will explore how to devel...   \n998  Docker is a set of platform as a service produ...   \n999  Machine Learning involves a lot of programming...   \n\n                                                  tags  \\\n0    ['python', 'youtube api', 'youtube-api', 'yout...   \n1    ['python', 'youtube api', 'youtube-api', 'pyth...   \n2    ['python', 'pandas', 'grouping', 'aggregating'...   \n3    ['python', 'pandas', 'pandas tutorial', 'panda...   \n4    ['pandas', 'python', 'pandas filter rows by co...   \n..                                                 ...   \n995  ['data science tutorial javatpoint', 'data sci...   \n996  ['data science tutorial javatpoint', 'data sci...   \n997  ['data science tutorial javatpoint', 'data sci...   \n998  ['data science tutorial javatpoint', 'data sci...   \n999  ['data science tutorial javatpoint', 'data sci...   \n\n                   publishedAt  viewCount  likeCount  favouriteCount  \\\n0    2020-07-31 14:30:00+00:00    42126.0     1068.0             NaN   \n1    2020-05-29 16:17:07+00:00   174028.0     5199.0             NaN   \n2    2020-02-14 14:38:33+00:00   329040.0     8015.0             NaN   \n3    2020-01-24 19:15:01+00:00   294049.0     7162.0             NaN   \n4    2020-01-17 14:00:06+00:00   330237.0     8383.0             NaN   \n..                         ...        ...        ...             ...   \n995  2020-05-30 12:53:00+00:00     2195.0       75.0             NaN   \n996  2020-05-30 04:30:13+00:00    44819.0     1146.0             NaN   \n997  2020-05-23 12:19:22+00:00    82276.0     1457.0             NaN   \n998  2020-05-16 12:44:26+00:00    54891.0     1229.0             NaN   \n999  2020-05-16 03:30:45+00:00    50236.0     1523.0             NaN   \n\n     commentCount  duration definition  caption publishDayName  durationSecs  \\\n0           128.0   PT22M8S         hd    False         Friday        1328.0   \n1           324.0  PT20M49S         hd    False         Friday        1249.0   \n2           615.0   PT49M6S         hd    False         Friday        2946.0   \n3           289.0   PT40M3S         hd    False         Friday        2403.0   \n4           276.0   PT23M4S         hd    False         Friday        1384.0   \n..            ...       ...        ...      ...            ...           ...   \n995          13.0  PT15M58S         hd    False       Saturday         958.0   \n996          30.0   PT7M54S         hd    False       Saturday         474.0   \n997         122.0  PT21M38S         hd    False       Saturday        1298.0   \n998         135.0  PT29M31S         hd    False       Saturday        1771.0   \n999         186.0  PT12M37S         hd    False       Saturday         757.0   \n\n     tagCount  likeRatio  commentRatio  titleLength  \n0         407  25.352514      3.038504           67  \n1         370  29.874503      1.861769           87  \n2         410  24.358741      1.869074           93  \n3         517  24.356485      0.982829           93  \n4         353  25.384799      0.835763           90  \n..        ...        ...           ...          ...  \n995       400  34.168565      5.922551           44  \n996       401  25.569513      0.669359           59  \n997       398  17.708688      1.482814           84  \n998       353  22.389827      2.459420           70  \n999       332  30.316904      3.702524           72  \n\n[1000 rows x 19 columns]",
      "text/html": "<div>\n<style scoped>\n    .dataframe tbody tr th:only-of-type {\n        vertical-align: middle;\n    }\n\n    .dataframe tbody tr th {\n        vertical-align: top;\n    }\n\n    .dataframe thead th {\n        text-align: right;\n    }\n</style>\n<table border=\"1\" class=\"dataframe\">\n  <thead>\n    <tr style=\"text-align: right;\">\n      <th></th>\n      <th>video_id</th>\n      <th>channelTitle</th>\n      <th>title</th>\n      <th>description</th>\n      <th>tags</th>\n      <th>publishedAt</th>\n      <th>viewCount</th>\n      <th>likeCount</th>\n      <th>favouriteCount</th>\n      <th>commentCount</th>\n      <th>duration</th>\n      <th>definition</th>\n      <th>caption</th>\n      <th>publishDayName</th>\n      <th>durationSecs</th>\n      <th>tagCount</th>\n      <th>likeRatio</th>\n      <th>commentRatio</th>\n      <th>titleLength</th>\n    </tr>\n  </thead>\n  <tbody>\n    <tr>\n      <th>0</th>\n      <td>1KO_HZtHOWI</td>\n      <td>Corey Schafer</td>\n      <td>Python YouTube API Tutorial: Sort a Playlist b...</td>\n      <td>In this Python Programming Tutorial, we'll be ...</td>\n      <td>['python', 'youtube api', 'youtube-api', 'yout...</td>\n      <td>2020-07-31 14:30:00+00:00</td>\n      <td>42126.0</td>\n      <td>1068.0</td>\n      <td>NaN</td>\n      <td>128.0</td>\n      <td>PT22M8S</td>\n      <td>hd</td>\n      <td>False</td>\n      <td>Friday</td>\n      <td>1328.0</td>\n      <td>407</td>\n      <td>25.352514</td>\n      <td>3.038504</td>\n      <td>67</td>\n    </tr>\n    <tr>\n      <th>1</th>\n      <td>th5_9woFJmk</td>\n      <td>Corey Schafer</td>\n      <td>Python YouTube API Tutorial: Getting Started -...</td>\n      <td>In this Python Programming Tutorial, we'll be ...</td>\n      <td>['python', 'youtube api', 'youtube-api', 'pyth...</td>\n      <td>2020-05-29 16:17:07+00:00</td>\n      <td>174028.0</td>\n      <td>5199.0</td>\n      <td>NaN</td>\n      <td>324.0</td>\n      <td>PT20M49S</td>\n      <td>hd</td>\n      <td>False</td>\n      <td>Friday</td>\n      <td>1249.0</td>\n      <td>370</td>\n      <td>29.874503</td>\n      <td>1.861769</td>\n      <td>87</td>\n    </tr>\n    <tr>\n      <th>2</th>\n      <td>txMdrV1Ut64</td>\n      <td>Corey Schafer</td>\n      <td>Python Pandas Tutorial (Part 8): Grouping and ...</td>\n      <td>In this video, we will be learning how to grou...</td>\n      <td>['python', 'pandas', 'grouping', 'aggregating'...</td>\n      <td>2020-02-14 14:38:33+00:00</td>\n      <td>329040.0</td>\n      <td>8015.0</td>\n      <td>NaN</td>\n      <td>615.0</td>\n      <td>PT49M6S</td>\n      <td>hd</td>\n      <td>False</td>\n      <td>Friday</td>\n      <td>2946.0</td>\n      <td>410</td>\n      <td>24.358741</td>\n      <td>1.869074</td>\n      <td>93</td>\n    </tr>\n    <tr>\n      <th>3</th>\n      <td>DCDe29sIKcE</td>\n      <td>Corey Schafer</td>\n      <td>Python Pandas Tutorial (Part 5): Updating Rows...</td>\n      <td>In this video, we will be learning how to upda...</td>\n      <td>['python', 'pandas', 'pandas tutorial', 'panda...</td>\n      <td>2020-01-24 19:15:01+00:00</td>\n      <td>294049.0</td>\n      <td>7162.0</td>\n      <td>NaN</td>\n      <td>289.0</td>\n      <td>PT40M3S</td>\n      <td>hd</td>\n      <td>False</td>\n      <td>Friday</td>\n      <td>2403.0</td>\n      <td>517</td>\n      <td>24.356485</td>\n      <td>0.982829</td>\n      <td>93</td>\n    </tr>\n    <tr>\n      <th>4</th>\n      <td>Lw2rlcxScZY</td>\n      <td>Corey Schafer</td>\n      <td>Python Pandas Tutorial (Part 4): Filtering - U...</td>\n      <td>In this video, we will be learning how to filt...</td>\n      <td>['pandas', 'python', 'pandas filter rows by co...</td>\n      <td>2020-01-17 14:00:06+00:00</td>\n      <td>330237.0</td>\n      <td>8383.0</td>\n      <td>NaN</td>\n      <td>276.0</td>\n      <td>PT23M4S</td>\n      <td>hd</td>\n      <td>False</td>\n      <td>Friday</td>\n      <td>1384.0</td>\n      <td>353</td>\n      <td>25.384799</td>\n      <td>0.835763</td>\n      <td>90</td>\n    </tr>\n    <tr>\n      <th>...</th>\n      <td>...</td>\n      <td>...</td>\n      <td>...</td>\n      <td>...</td>\n      <td>...</td>\n      <td>...</td>\n      <td>...</td>\n      <td>...</td>\n      <td>...</td>\n      <td>...</td>\n      <td>...</td>\n      <td>...</td>\n      <td>...</td>\n      <td>...</td>\n      <td>...</td>\n      <td>...</td>\n      <td>...</td>\n      <td>...</td>\n      <td>...</td>\n    </tr>\n    <tr>\n      <th>995</th>\n      <td>SMDwMWTkxzs</td>\n      <td>Krish Naik</td>\n      <td>StackOverflow Developer Survey 2020 Overview</td>\n      <td>stackoverflow url: https://insights.stackoverf...</td>\n      <td>['data science tutorial javatpoint', 'data sci...</td>\n      <td>2020-05-30 12:53:00+00:00</td>\n      <td>2195.0</td>\n      <td>75.0</td>\n      <td>NaN</td>\n      <td>13.0</td>\n      <td>PT15M58S</td>\n      <td>hd</td>\n      <td>False</td>\n      <td>Saturday</td>\n      <td>958.0</td>\n      <td>400</td>\n      <td>34.168565</td>\n      <td>5.922551</td>\n      <td>44</td>\n    </tr>\n    <tr>\n      <th>996</th>\n      <td>D-a6dwXzJ6s</td>\n      <td>Krish Naik</td>\n      <td>Bidirectional RNN Indepth Intuition- Deep Lear...</td>\n      <td>Complete Deep Learning Playlist: https://www.y...</td>\n      <td>['data science tutorial javatpoint', 'data sci...</td>\n      <td>2020-05-30 04:30:13+00:00</td>\n      <td>44819.0</td>\n      <td>1146.0</td>\n      <td>NaN</td>\n      <td>30.0</td>\n      <td>PT7M54S</td>\n      <td>hd</td>\n      <td>False</td>\n      <td>Saturday</td>\n      <td>474.0</td>\n      <td>401</td>\n      <td>25.569513</td>\n      <td>0.669359</td>\n      <td>59</td>\n    </tr>\n    <tr>\n      <th>997</th>\n      <td>UbvkhuqVqUI</td>\n      <td>Krish Naik</td>\n      <td>Lets Implement LSTM RNN Models For Univariate ...</td>\n      <td>In this tutorial, we will explore how to devel...</td>\n      <td>['data science tutorial javatpoint', 'data sci...</td>\n      <td>2020-05-23 12:19:22+00:00</td>\n      <td>82276.0</td>\n      <td>1457.0</td>\n      <td>NaN</td>\n      <td>122.0</td>\n      <td>PT21M38S</td>\n      <td>hd</td>\n      <td>False</td>\n      <td>Saturday</td>\n      <td>1298.0</td>\n      <td>398</td>\n      <td>17.708688</td>\n      <td>1.482814</td>\n      <td>84</td>\n    </tr>\n    <tr>\n      <th>998</th>\n      <td>ipFUANeStYE</td>\n      <td>Krish Naik</td>\n      <td>Docker Tutorial 2- Building A Flask App For A ...</td>\n      <td>Docker is a set of platform as a service produ...</td>\n      <td>['data science tutorial javatpoint', 'data sci...</td>\n      <td>2020-05-16 12:44:26+00:00</td>\n      <td>54891.0</td>\n      <td>1229.0</td>\n      <td>NaN</td>\n      <td>135.0</td>\n      <td>PT29M31S</td>\n      <td>hd</td>\n      <td>False</td>\n      <td>Saturday</td>\n      <td>1771.0</td>\n      <td>353</td>\n      <td>22.389827</td>\n      <td>2.459420</td>\n      <td>70</td>\n    </tr>\n    <tr>\n      <th>999</th>\n      <td>niaI15AuYTA</td>\n      <td>Krish Naik</td>\n      <td>Successful Transition Story From Mechanical En...</td>\n      <td>Machine Learning involves a lot of programming...</td>\n      <td>['data science tutorial javatpoint', 'data sci...</td>\n      <td>2020-05-16 03:30:45+00:00</td>\n      <td>50236.0</td>\n      <td>1523.0</td>\n      <td>NaN</td>\n      <td>186.0</td>\n      <td>PT12M37S</td>\n      <td>hd</td>\n      <td>False</td>\n      <td>Saturday</td>\n      <td>757.0</td>\n      <td>332</td>\n      <td>30.316904</td>\n      <td>3.702524</td>\n      <td>72</td>\n    </tr>\n  </tbody>\n</table>\n<p>1000 rows × 19 columns</p>\n</div>"
     },
     "execution_count": 21,
     "metadata": {},
     "output_type": "execute_result"
    }
   ],
   "source": [
    "client=bigquery.Client(credentials=credentials,project=project_id)\n",
    "query='SELECT * FROM `opportune-balm-340813.Youtube_Analytics.Youtube Comments` LIMIT 1000'\n",
    "job=client.query(query)\n",
    "\n",
    "\n",
    "if job.state=='DONE':\n",
    "    result=job.to_dataframe()\n",
    "else:\n",
    "    print(job.result())\n",
    "\n",
    "result"
   ],
   "metadata": {
    "collapsed": false
   }
  },
  {
   "cell_type": "code",
   "execution_count": 22,
   "outputs": [
    {
     "data": {
      "text/plain": "        f0_\n0  176037.0",
      "text/html": "<div>\n<style scoped>\n    .dataframe tbody tr th:only-of-type {\n        vertical-align: middle;\n    }\n\n    .dataframe tbody tr th {\n        vertical-align: top;\n    }\n\n    .dataframe thead th {\n        text-align: right;\n    }\n</style>\n<table border=\"1\" class=\"dataframe\">\n  <thead>\n    <tr style=\"text-align: right;\">\n      <th></th>\n      <th>f0_</th>\n    </tr>\n  </thead>\n  <tbody>\n    <tr>\n      <th>0</th>\n      <td>176037.0</td>\n    </tr>\n  </tbody>\n</table>\n</div>"
     },
     "execution_count": 22,
     "metadata": {},
     "output_type": "execute_result"
    }
   ],
   "source": [
    "client=bigquery.Client(credentials=credentials,project=project_id)\n",
    "query='Select MAX (likeCount) from `opportune-balm-340813.Youtube_Analytics.Youtube Comments`'\n",
    "job=client.query(query)\n",
    "\n",
    "\n",
    "if job.state=='DONE':\n",
    "    result=job.to_dataframe()\n",
    "else:\n",
    "    print(job.result())\n",
    "\n",
    "result"
   ],
   "metadata": {
    "collapsed": false
   }
  },
  {
   "cell_type": "code",
   "execution_count": 23,
   "outputs": [
    {
     "data": {
      "text/plain": "           f0_\n0  2466.788147",
      "text/html": "<div>\n<style scoped>\n    .dataframe tbody tr th:only-of-type {\n        vertical-align: middle;\n    }\n\n    .dataframe tbody tr th {\n        vertical-align: top;\n    }\n\n    .dataframe thead th {\n        text-align: right;\n    }\n</style>\n<table border=\"1\" class=\"dataframe\">\n  <thead>\n    <tr style=\"text-align: right;\">\n      <th></th>\n      <th>f0_</th>\n    </tr>\n  </thead>\n  <tbody>\n    <tr>\n      <th>0</th>\n      <td>2466.788147</td>\n    </tr>\n  </tbody>\n</table>\n</div>"
     },
     "execution_count": 23,
     "metadata": {},
     "output_type": "execute_result"
    }
   ],
   "source": [
    "result\n",
    "client = bigquery.Client(credentials=credentials, project=project_id)\n",
    "query = 'Select AVG (likeCount) from `opportune-balm-340813.Youtube_Analytics.Youtube Comments`'\n",
    "job = client.query(query)\n",
    "\n",
    "if job.state == 'DONE':\n",
    "    result = job.to_dataframe()\n",
    "else:\n",
    "    print(job.result())\n",
    "\n",
    "result"
   ],
   "metadata": {
    "collapsed": false
   }
  },
  {
   "cell_type": "code",
   "execution_count": 24,
   "outputs": [
    {
     "data": {
      "text/plain": "                                               title  durationSecs  \\\n0  How I would learn to code (if I could start over)         807.0   \n1  Become a DATA ANALYST with NO degree?!? The Go...         696.0   \n2       Python OOP Tutorial 1: Classes and Instances         924.0   \n3  How I consistently study with a full time job ...         953.0   \n4                 How to self study technical things         974.0   \n\n                                             title_1  likeCount  \n0  How I would learn to code (if I could start over)   176037.0  \n1  Become a DATA ANALYST with NO degree?!? The Go...   106834.0  \n2       Python OOP Tutorial 1: Classes and Instances   101657.0  \n3  How I consistently study with a full time job ...    93252.0  \n4                 How to self study technical things    70829.0  ",
      "text/html": "<div>\n<style scoped>\n    .dataframe tbody tr th:only-of-type {\n        vertical-align: middle;\n    }\n\n    .dataframe tbody tr th {\n        vertical-align: top;\n    }\n\n    .dataframe thead th {\n        text-align: right;\n    }\n</style>\n<table border=\"1\" class=\"dataframe\">\n  <thead>\n    <tr style=\"text-align: right;\">\n      <th></th>\n      <th>title</th>\n      <th>durationSecs</th>\n      <th>title_1</th>\n      <th>likeCount</th>\n    </tr>\n  </thead>\n  <tbody>\n    <tr>\n      <th>0</th>\n      <td>How I would learn to code (if I could start over)</td>\n      <td>807.0</td>\n      <td>How I would learn to code (if I could start over)</td>\n      <td>176037.0</td>\n    </tr>\n    <tr>\n      <th>1</th>\n      <td>Become a DATA ANALYST with NO degree?!? The Go...</td>\n      <td>696.0</td>\n      <td>Become a DATA ANALYST with NO degree?!? The Go...</td>\n      <td>106834.0</td>\n    </tr>\n    <tr>\n      <th>2</th>\n      <td>Python OOP Tutorial 1: Classes and Instances</td>\n      <td>924.0</td>\n      <td>Python OOP Tutorial 1: Classes and Instances</td>\n      <td>101657.0</td>\n    </tr>\n    <tr>\n      <th>3</th>\n      <td>How I consistently study with a full time job ...</td>\n      <td>953.0</td>\n      <td>How I consistently study with a full time job ...</td>\n      <td>93252.0</td>\n    </tr>\n    <tr>\n      <th>4</th>\n      <td>How to self study technical things</td>\n      <td>974.0</td>\n      <td>How to self study technical things</td>\n      <td>70829.0</td>\n    </tr>\n  </tbody>\n</table>\n</div>"
     },
     "execution_count": 24,
     "metadata": {},
     "output_type": "execute_result"
    }
   ],
   "source": [
    "result\n",
    "client = bigquery.Client(credentials=credentials, project=project_id)\n",
    "query = 'select title,durationSecs,title,likeCount from `opportune-balm-340813.Youtube_Analytics.Youtube Comments` order by likeCount desc limit 5;'\n",
    "job = client.query(query)\n",
    "\n",
    "if job.state == 'DONE':\n",
    "    result = job.to_dataframe()\n",
    "else:\n",
    "    print(job.result())\n",
    "\n",
    "result"
   ],
   "metadata": {
    "collapsed": false
   }
  },
  {
   "cell_type": "code",
   "execution_count": 25,
   "outputs": [
    {
     "data": {
      "text/plain": "                                               title  durationSecs  \\\n0  How I would learn to code (if I could start over)         807.0   \n1  Become a DATA ANALYST with NO degree?!? The Go...         696.0   \n2       Python OOP Tutorial 1: Classes and Instances         924.0   \n3  How I consistently study with a full time job ...         953.0   \n4                 How to self study technical things         974.0   \n\n                                             title_1  likeCount  \n0  How I would learn to code (if I could start over)   176037.0  \n1  Become a DATA ANALYST with NO degree?!? The Go...   106834.0  \n2       Python OOP Tutorial 1: Classes and Instances   101657.0  \n3  How I consistently study with a full time job ...    93252.0  \n4                 How to self study technical things    70829.0  ",
      "text/html": "<div>\n<style scoped>\n    .dataframe tbody tr th:only-of-type {\n        vertical-align: middle;\n    }\n\n    .dataframe tbody tr th {\n        vertical-align: top;\n    }\n\n    .dataframe thead th {\n        text-align: right;\n    }\n</style>\n<table border=\"1\" class=\"dataframe\">\n  <thead>\n    <tr style=\"text-align: right;\">\n      <th></th>\n      <th>title</th>\n      <th>durationSecs</th>\n      <th>title_1</th>\n      <th>likeCount</th>\n    </tr>\n  </thead>\n  <tbody>\n    <tr>\n      <th>0</th>\n      <td>How I would learn to code (if I could start over)</td>\n      <td>807.0</td>\n      <td>How I would learn to code (if I could start over)</td>\n      <td>176037.0</td>\n    </tr>\n    <tr>\n      <th>1</th>\n      <td>Become a DATA ANALYST with NO degree?!? The Go...</td>\n      <td>696.0</td>\n      <td>Become a DATA ANALYST with NO degree?!? The Go...</td>\n      <td>106834.0</td>\n    </tr>\n    <tr>\n      <th>2</th>\n      <td>Python OOP Tutorial 1: Classes and Instances</td>\n      <td>924.0</td>\n      <td>Python OOP Tutorial 1: Classes and Instances</td>\n      <td>101657.0</td>\n    </tr>\n    <tr>\n      <th>3</th>\n      <td>How I consistently study with a full time job ...</td>\n      <td>953.0</td>\n      <td>How I consistently study with a full time job ...</td>\n      <td>93252.0</td>\n    </tr>\n    <tr>\n      <th>4</th>\n      <td>How to self study technical things</td>\n      <td>974.0</td>\n      <td>How to self study technical things</td>\n      <td>70829.0</td>\n    </tr>\n  </tbody>\n</table>\n</div>"
     },
     "execution_count": 25,
     "metadata": {},
     "output_type": "execute_result"
    }
   ],
   "source": [
    "result\n",
    "client = bigquery.Client(credentials=credentials, project=project_id)\n",
    "query = 'select title,durationSecs,title,likeCount from `opportune-balm-340813.Youtube_Analytics.Youtube Comments` order by likeCount desc limit 5;'\n",
    "job = client.query(query)\n",
    "\n",
    "if job.state == 'DONE':\n",
    "    result = job.to_dataframe()\n",
    "else:\n",
    "    print(job.result())\n",
    "\n",
    "result"
   ],
   "metadata": {
    "collapsed": false
   }
  },
  {
   "cell_type": "code",
   "execution_count": 26,
   "outputs": [],
   "source": [
    "query='WITH ntile_80 AS ( SELECT title, viewCount, likeCount, commentCount, NTILE(100) OVER (ORDER BY likeCount) AS percentile_rank FROM `Youtube_Analytics.Youtube Comments` ) SELECT title, viewCount, likeCount, commentCount FROM ntile_80 WHERE percentile_rank <= 80;'"
   ],
   "metadata": {
    "collapsed": false
   }
  },
  {
   "cell_type": "code",
   "execution_count": 27,
   "outputs": [
    {
     "data": {
      "text/plain": "                                               title  durationSecs  \\\n0  How I would learn to code (if I could start over)         807.0   \n1  Become a DATA ANALYST with NO degree?!? The Go...         696.0   \n2       Python OOP Tutorial 1: Classes and Instances         924.0   \n3  How I consistently study with a full time job ...         953.0   \n4                 How to self study technical things         974.0   \n\n                                             title_1  likeCount  \n0  How I would learn to code (if I could start over)   176037.0  \n1  Become a DATA ANALYST with NO degree?!? The Go...   106834.0  \n2       Python OOP Tutorial 1: Classes and Instances   101657.0  \n3  How I consistently study with a full time job ...    93252.0  \n4                 How to self study technical things    70829.0  ",
      "text/html": "<div>\n<style scoped>\n    .dataframe tbody tr th:only-of-type {\n        vertical-align: middle;\n    }\n\n    .dataframe tbody tr th {\n        vertical-align: top;\n    }\n\n    .dataframe thead th {\n        text-align: right;\n    }\n</style>\n<table border=\"1\" class=\"dataframe\">\n  <thead>\n    <tr style=\"text-align: right;\">\n      <th></th>\n      <th>title</th>\n      <th>durationSecs</th>\n      <th>title_1</th>\n      <th>likeCount</th>\n    </tr>\n  </thead>\n  <tbody>\n    <tr>\n      <th>0</th>\n      <td>How I would learn to code (if I could start over)</td>\n      <td>807.0</td>\n      <td>How I would learn to code (if I could start over)</td>\n      <td>176037.0</td>\n    </tr>\n    <tr>\n      <th>1</th>\n      <td>Become a DATA ANALYST with NO degree?!? The Go...</td>\n      <td>696.0</td>\n      <td>Become a DATA ANALYST with NO degree?!? The Go...</td>\n      <td>106834.0</td>\n    </tr>\n    <tr>\n      <th>2</th>\n      <td>Python OOP Tutorial 1: Classes and Instances</td>\n      <td>924.0</td>\n      <td>Python OOP Tutorial 1: Classes and Instances</td>\n      <td>101657.0</td>\n    </tr>\n    <tr>\n      <th>3</th>\n      <td>How I consistently study with a full time job ...</td>\n      <td>953.0</td>\n      <td>How I consistently study with a full time job ...</td>\n      <td>93252.0</td>\n    </tr>\n    <tr>\n      <th>4</th>\n      <td>How to self study technical things</td>\n      <td>974.0</td>\n      <td>How to self study technical things</td>\n      <td>70829.0</td>\n    </tr>\n  </tbody>\n</table>\n</div>"
     },
     "execution_count": 27,
     "metadata": {},
     "output_type": "execute_result"
    }
   ],
   "source": [
    "result\n",
    "client = bigquery.Client(credentials=credentials, project=project_id)\n",
    "query = query\n",
    "\n",
    "if job.state == 'DONE':\n",
    "    result = job.to_dataframe()\n",
    "else:\n",
    "    print(job.result())\n",
    "\n",
    "result"
   ],
   "metadata": {
    "collapsed": false
   }
  },
  {
   "cell_type": "code",
   "execution_count": null,
   "outputs": [],
   "source": [],
   "metadata": {
    "collapsed": false
   }
  },
  {
   "cell_type": "code",
   "execution_count": null,
   "outputs": [],
   "source": [],
   "metadata": {
    "collapsed": false
   }
  },
  {
   "cell_type": "code",
   "execution_count": null,
   "outputs": [],
   "source": [],
   "metadata": {
    "collapsed": false
   }
  },
  {
   "cell_type": "code",
   "execution_count": null,
   "outputs": [],
   "source": [],
   "metadata": {
    "collapsed": false
   }
  },
  {
   "cell_type": "code",
   "execution_count": null,
   "outputs": [],
   "source": [],
   "metadata": {
    "collapsed": false
   }
  },
  {
   "cell_type": "code",
   "execution_count": null,
   "outputs": [],
   "source": [],
   "metadata": {
    "collapsed": false
   }
  },
  {
   "cell_type": "code",
   "execution_count": null,
   "outputs": [],
   "source": [],
   "metadata": {
    "collapsed": false
   }
  },
  {
   "cell_type": "code",
   "execution_count": null,
   "outputs": [],
   "source": [],
   "metadata": {
    "collapsed": false
   }
  }
 ],
 "metadata": {
  "kernelspec": {
   "display_name": "Python 3",
   "language": "python",
   "name": "python3"
  },
  "language_info": {
   "codemirror_mode": {
    "name": "ipython",
    "version": 2
   },
   "file_extension": ".py",
   "mimetype": "text/x-python",
   "name": "python",
   "nbconvert_exporter": "python",
   "pygments_lexer": "ipython2",
   "version": "2.7.6"
  }
 },
 "nbformat": 4,
 "nbformat_minor": 0
}
