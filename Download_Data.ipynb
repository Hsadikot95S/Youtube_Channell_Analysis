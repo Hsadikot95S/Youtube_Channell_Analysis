{
 "cells": [
  {
   "cell_type": "code",
   "execution_count": 2,
   "metadata": {
    "collapsed": true
   },
   "outputs": [],
   "source": [
    "from googleapiclient.discovery import build\n",
    "from dateutil import parser\n",
    "import pandas as pd\n",
    "from IPython.display import JSON\n",
    "import glob\n",
    "import os"
   ]
  },
  {
   "cell_type": "code",
   "execution_count": 1,
   "outputs": [],
   "source": [
    "api_key = ''"
   ],
   "metadata": {
    "collapsed": false
   }
  },
  {
   "cell_type": "code",
   "execution_count": 4,
   "outputs": [],
   "source": [
    "channel_ids = ['UCCezIgC97PvUuR4_gbFUs5g',\n",
    "               # more channels here\n",
    "               ]"
   ],
   "metadata": {
    "collapsed": false
   }
  },
  {
   "cell_type": "code",
   "execution_count": 5,
   "outputs": [],
   "source": [
    "api_service_name = \"youtube\"\n",
    "api_version = \"v3\"\n",
    "\n",
    "# Get credentials and create an API client\n",
    "youtube = build(\n",
    "    api_service_name, api_version, developerKey=api_key)"
   ],
   "metadata": {
    "collapsed": false
   }
  },
  {
   "cell_type": "code",
   "execution_count": 6,
   "outputs": [],
   "source": [
    "def get_channel_stats(youtube, channel_ids):\n",
    "\n",
    "    \"\"\"\n",
    "    Get channel stats\n",
    "\n",
    "    Params:\n",
    "    ------\n",
    "    youtube: build object of Youtube API\n",
    "    channel_ids: list of channel IDs\n",
    "\n",
    "    Returns:\n",
    "    ------\n",
    "    dataframe with all channel stats for each channel ID\n",
    "\n",
    "    \"\"\"\n",
    "\n",
    "    all_data = []\n",
    "\n",
    "    request = youtube.channels().list(\n",
    "        part=\"snippet,contentDetails,statistics\",\n",
    "        id=','.join(channel_ids)\n",
    "    )\n",
    "    response = request.execute()\n",
    "\n",
    "    # loop through items\n",
    "    for item in response['items']:\n",
    "        data = {'channelName': item['snippet']['title'],\n",
    "                'subscribers': item['statistics']['subscriberCount'],\n",
    "                'views': item['statistics']['viewCount'],\n",
    "                'totalVideos': item['statistics']['videoCount'],\n",
    "                'playlistId': item['contentDetails']['relatedPlaylists']['uploads']\n",
    "                }\n",
    "\n",
    "        all_data.append(data)\n",
    "\n",
    "    return(pd.DataFrame(all_data))\n",
    "\n",
    "def get_video_ids(youtube, playlist_id):\n",
    "\n",
    "    video_ids = []\n",
    "\n",
    "    request = youtube.playlistItems().list(\n",
    "        part=\"snippet,contentDetails\",\n",
    "        playlistId=playlist_id,\n",
    "        maxResults = 50\n",
    "    )\n",
    "    response = request.execute()\n",
    "\n",
    "    for item in response['items']:\n",
    "        video_ids.append(item['contentDetails']['videoId'])\n",
    "\n",
    "    next_page_token = response.get('nextPageToken')\n",
    "    while next_page_token is not None:\n",
    "        request = youtube.playlistItems().list(\n",
    "            part='contentDetails',\n",
    "            playlistId = playlist_id,\n",
    "            maxResults = 50,\n",
    "            pageToken = next_page_token)\n",
    "        response = request.execute()\n",
    "\n",
    "        for item in response['items']:\n",
    "            video_ids.append(item['contentDetails']['videoId'])\n",
    "\n",
    "        next_page_token = response.get('nextPageToken')\n",
    "\n",
    "    return video_ids\n",
    "\n",
    "\n",
    "def get_video_details(youtube, video_ids):\n",
    "\n",
    "    all_video_info = []\n",
    "\n",
    "    for i in range(0, len(video_ids), 50):\n",
    "        request = youtube.videos().list(\n",
    "            part=\"snippet,contentDetails,statistics\",\n",
    "            id=','.join(video_ids[i:i+50])\n",
    "        )\n",
    "        response = request.execute()\n",
    "\n",
    "        for video in response['items']:\n",
    "            stats_to_keep = {'snippet': ['channelTitle', 'title', 'description', 'tags', 'publishedAt'],\n",
    "                             'statistics': ['viewCount', 'likeCount', 'favouriteCount', 'commentCount'],\n",
    "                             'contentDetails': ['duration', 'definition', 'caption']\n",
    "                             }\n",
    "            video_info = {}\n",
    "            video_info['video_id'] = video['id']\n",
    "\n",
    "            for k in stats_to_keep.keys():\n",
    "                for v in stats_to_keep[k]:\n",
    "                    try:\n",
    "                        video_info[v] = video[k][v]\n",
    "                    except:\n",
    "                        video_info[v] = None\n",
    "\n",
    "            all_video_info.append(video_info)\n",
    "\n",
    "    return pd.DataFrame(all_video_info)"
   ],
   "metadata": {
    "collapsed": false
   }
  },
  {
   "cell_type": "code",
   "execution_count": 7,
   "outputs": [
    {
     "data": {
      "text/plain": "     channelName subscribers     views totalVideos                playlistId\n0  Corey Schafer     1090000  83902795         231  UUCezIgC97PvUuR4_gbFUs5g",
      "text/html": "<div>\n<style scoped>\n    .dataframe tbody tr th:only-of-type {\n        vertical-align: middle;\n    }\n\n    .dataframe tbody tr th {\n        vertical-align: top;\n    }\n\n    .dataframe thead th {\n        text-align: right;\n    }\n</style>\n<table border=\"1\" class=\"dataframe\">\n  <thead>\n    <tr style=\"text-align: right;\">\n      <th></th>\n      <th>channelName</th>\n      <th>subscribers</th>\n      <th>views</th>\n      <th>totalVideos</th>\n      <th>playlistId</th>\n    </tr>\n  </thead>\n  <tbody>\n    <tr>\n      <th>0</th>\n      <td>Corey Schafer</td>\n      <td>1090000</td>\n      <td>83902795</td>\n      <td>231</td>\n      <td>UUCezIgC97PvUuR4_gbFUs5g</td>\n    </tr>\n  </tbody>\n</table>\n</div>"
     },
     "execution_count": 7,
     "metadata": {},
     "output_type": "execute_result"
    }
   ],
   "source": [
    "channel_stats = get_channel_stats(youtube, channel_ids)\n",
    "channel_stats"
   ],
   "metadata": {
    "collapsed": false
   }
  },
  {
   "cell_type": "code",
   "execution_count": 8,
   "outputs": [],
   "source": [
    "playlist_id = \"UUCezIgC97PvUuR4_gbFUs5g\"\n"
   ],
   "metadata": {
    "collapsed": false
   }
  },
  {
   "cell_type": "code",
   "execution_count": 9,
   "outputs": [],
   "source": [
    "video_ids = get_video_ids(youtube, playlist_id)\n"
   ],
   "metadata": {
    "collapsed": false
   }
  },
  {
   "cell_type": "code",
   "execution_count": 10,
   "outputs": [],
   "source": [
    "os.chdir('C:/Users/sadik/OneDrive - Pace University/Desktop/Youtube Channel Analysis/Downloads')\n",
    "video_df = get_video_details(youtube, video_ids)\n",
    "video_df.to_csv('data1.csv',index=False)\n"
   ],
   "metadata": {
    "collapsed": false
   }
  },
  {
   "cell_type": "code",
   "execution_count": 16,
   "outputs": [
    {
     "name": "stdout",
     "output_type": "stream",
     "text": [
      "['C:\\\\Users\\\\sadik\\\\OneDrive - Pace University\\\\Desktop\\\\Youtube Channel Analysis\\\\Downloads\\\\data1.csv', 'C:\\\\Users\\\\sadik\\\\OneDrive - Pace University\\\\Desktop\\\\Youtube Channel Analysis\\\\Downloads\\\\data2.csv', 'C:\\\\Users\\\\sadik\\\\OneDrive - Pace University\\\\Desktop\\\\Youtube Channel Analysis\\\\Downloads\\\\data3.csv', 'C:\\\\Users\\\\sadik\\\\OneDrive - Pace University\\\\Desktop\\\\Youtube Channel Analysis\\\\Downloads\\\\data4.csv', 'C:\\\\Users\\\\sadik\\\\OneDrive - Pace University\\\\Desktop\\\\Youtube Channel Analysis\\\\Downloads\\\\data5.csv']\n"
     ]
    }
   ],
   "source": [
    "\n",
    "path=os.getcwd()\n",
    "filenames = glob.glob(path + \"/*.csv\")\n",
    "print(filenames)\n",
    "\n",
    "dfs = []\n",
    "for filename in filenames:\n",
    "    dfs.append(pd.read_csv(filename))\n",
    "\n",
    "# Concatenate all data into one DataFrame\n",
    "Download_df = pd.concat(dfs, ignore_index=True)\n",
    "Download_df.to_csv('Download.csv',index=False)\n"
   ],
   "metadata": {
    "collapsed": false
   }
  }
 ],
 "metadata": {
  "kernelspec": {
   "display_name": "Python 3",
   "language": "python",
   "name": "python3"
  },
  "language_info": {
   "codemirror_mode": {
    "name": "ipython",
    "version": 2
   },
   "file_extension": ".py",
   "mimetype": "text/x-python",
   "name": "python",
   "nbconvert_exporter": "python",
   "pygments_lexer": "ipython2",
   "version": "2.7.6"
  }
 },
 "nbformat": 4,
 "nbformat_minor": 0
}
